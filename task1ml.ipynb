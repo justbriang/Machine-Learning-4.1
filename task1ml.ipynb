{
  "nbformat": 4,
  "nbformat_minor": 0,
  "metadata": {
    "colab": {
      "name": "task1ml.ipynb",
      "provenance": [],
      "authorship_tag": "ABX9TyOJNDfN/cZJc0k0yNAeDQzf",
      "include_colab_link": true
    },
    "kernelspec": {
      "name": "python3",
      "display_name": "Python 3"
    },
    "language_info": {
      "name": "python"
    }
  },
  "cells": [
    {
      "cell_type": "markdown",
      "metadata": {
        "id": "view-in-github",
        "colab_type": "text"
      },
      "source": [
        "<a href=\"https://colab.research.google.com/github/justbriang/Machine-Learning-4.1/blob/main/task1ml.ipynb\" target=\"_parent\"><img src=\"https://colab.research.google.com/assets/colab-badge.svg\" alt=\"Open In Colab\"/></a>"
      ]
    },
    {
      "cell_type": "code",
      "metadata": {
        "id": "99u5YXZXZRg_"
      },
      "source": [
        "from numpy import random\n",
        "import pandas as pd\n",
        "from scipy.stats import binom,poisson\n",
        "import matplotlib.pyplot as plt"
      ],
      "execution_count": null,
      "outputs": []
    },
    {
      "cell_type": "markdown",
      "metadata": {
        "id": "ejaMDSVAt52_"
      },
      "source": [
        "Generate 100 random values(feature 𝒙 ->office size and target 𝑦 ->office price)\n"
      ]
    },
    {
      "cell_type": "code",
      "metadata": {
        "id": "QGQzeLwdZ2n7"
      },
      "source": [
        "x=random.normal(200.0,50.0,100)\n",
        "y=random.normal(25000,5000,100)"
      ],
      "execution_count": null,
      "outputs": []
    },
    {
      "cell_type": "markdown",
      "metadata": {
        "id": "wTAsapdDGq37"
      },
      "source": [
        "Explore the generated data"
      ]
    },
    {
      "cell_type": "code",
      "metadata": {
        "colab": {
          "base_uri": "https://localhost:8080/",
          "height": 419
        },
        "id": "jQDGJXy1_42c",
        "outputId": "40c57d1b-99ff-46aa-8a6f-de3e2ebbe712"
      },
      "source": [
        "dummmy_data={'Office Size(X)':x,'Office Price(Y)':y,}\n",
        "data=pd.DataFrame(dummmy_data)\n",
        "data"
      ],
      "execution_count": null,
      "outputs": [
        {
          "output_type": "execute_result",
          "data": {
            "text/html": [
              "<div>\n",
              "<style scoped>\n",
              "    .dataframe tbody tr th:only-of-type {\n",
              "        vertical-align: middle;\n",
              "    }\n",
              "\n",
              "    .dataframe tbody tr th {\n",
              "        vertical-align: top;\n",
              "    }\n",
              "\n",
              "    .dataframe thead th {\n",
              "        text-align: right;\n",
              "    }\n",
              "</style>\n",
              "<table border=\"1\" class=\"dataframe\">\n",
              "  <thead>\n",
              "    <tr style=\"text-align: right;\">\n",
              "      <th></th>\n",
              "      <th>Office Size(X)</th>\n",
              "      <th>Office Price(Y)</th>\n",
              "    </tr>\n",
              "  </thead>\n",
              "  <tbody>\n",
              "    <tr>\n",
              "      <th>0</th>\n",
              "      <td>156.343371</td>\n",
              "      <td>21281.456431</td>\n",
              "    </tr>\n",
              "    <tr>\n",
              "      <th>1</th>\n",
              "      <td>236.764993</td>\n",
              "      <td>23180.987729</td>\n",
              "    </tr>\n",
              "    <tr>\n",
              "      <th>2</th>\n",
              "      <td>173.329833</td>\n",
              "      <td>25684.826284</td>\n",
              "    </tr>\n",
              "    <tr>\n",
              "      <th>3</th>\n",
              "      <td>243.535386</td>\n",
              "      <td>25148.679202</td>\n",
              "    </tr>\n",
              "    <tr>\n",
              "      <th>4</th>\n",
              "      <td>211.784346</td>\n",
              "      <td>33997.635810</td>\n",
              "    </tr>\n",
              "    <tr>\n",
              "      <th>...</th>\n",
              "      <td>...</td>\n",
              "      <td>...</td>\n",
              "    </tr>\n",
              "    <tr>\n",
              "      <th>95</th>\n",
              "      <td>186.817336</td>\n",
              "      <td>22475.442824</td>\n",
              "    </tr>\n",
              "    <tr>\n",
              "      <th>96</th>\n",
              "      <td>246.353136</td>\n",
              "      <td>24722.479728</td>\n",
              "    </tr>\n",
              "    <tr>\n",
              "      <th>97</th>\n",
              "      <td>180.135943</td>\n",
              "      <td>24304.160387</td>\n",
              "    </tr>\n",
              "    <tr>\n",
              "      <th>98</th>\n",
              "      <td>222.205308</td>\n",
              "      <td>30062.601846</td>\n",
              "    </tr>\n",
              "    <tr>\n",
              "      <th>99</th>\n",
              "      <td>188.605285</td>\n",
              "      <td>26426.974128</td>\n",
              "    </tr>\n",
              "  </tbody>\n",
              "</table>\n",
              "<p>100 rows × 2 columns</p>\n",
              "</div>"
            ],
            "text/plain": [
              "    Office Size(X)  Office Price(Y)\n",
              "0       156.343371     21281.456431\n",
              "1       236.764993     23180.987729\n",
              "2       173.329833     25684.826284\n",
              "3       243.535386     25148.679202\n",
              "4       211.784346     33997.635810\n",
              "..             ...              ...\n",
              "95      186.817336     22475.442824\n",
              "96      246.353136     24722.479728\n",
              "97      180.135943     24304.160387\n",
              "98      222.205308     30062.601846\n",
              "99      188.605285     26426.974128\n",
              "\n",
              "[100 rows x 2 columns]"
            ]
          },
          "metadata": {
            "tags": []
          },
          "execution_count": 71
        }
      ]
    },
    {
      "cell_type": "markdown",
      "metadata": {
        "id": "6YZiQsg_cPnA"
      },
      "source": [
        "Function to calculate the mean squared error given y_hat"
      ]
    },
    {
      "cell_type": "code",
      "metadata": {
        "id": "QZMX7eksRaqS"
      },
      "source": [
        "def mean_squared_error(y_hat):\n",
        "  dummmy_data={'Office Size(X)':x,'Office Price(Y)':y,'Y^':y_hat,'Mean Squared Error(y-y^)^2':((y-y_hat)**2)}\n",
        "  data=pd.DataFrame(dummmy_data)\n",
        "  #data\n",
        "  #data.describe()\n",
        "  return data.get(\"Mean Squared Error(y-y^)^2\").mean()\n",
        "#mean_squared_error()"
      ],
      "execution_count": null,
      "outputs": []
    },
    {
      "cell_type": "markdown",
      "metadata": {
        "id": "WvsyJ3HJG9ff"
      },
      "source": [
        "Function to plot a graph of the predicted line vs data"
      ]
    },
    {
      "cell_type": "code",
      "metadata": {
        "id": "LR2RI1gOPn4-"
      },
      "source": [
        "def plot_result(m,c):\n",
        "   y_predicted=m*x+c\n",
        "   print(y_p)\n",
        "   plt.scatter(x,y)\n",
        "   plt.scatter(x,y_predicted)\n",
        "   plt.show()"
      ],
      "execution_count": null,
      "outputs": []
    },
    {
      "cell_type": "markdown",
      "metadata": {
        "id": "KVT9WAq5HEVn"
      },
      "source": [
        "function to predict the office price of a give office size"
      ]
    },
    {
      "cell_type": "code",
      "metadata": {
        "id": "tRxpHfd8FAX6"
      },
      "source": [
        "def predict_officePrice(m,c,office_size):\n",
        "\n",
        "  y_p=m*office_size+c\n",
        "  return print('For office size ' + str(office_size) +' the predicted office price is ' +str(y_p))"
      ],
      "execution_count": null,
      "outputs": []
    },
    {
      "cell_type": "markdown",
      "metadata": {
        "id": "8P4UqPISHJ-G"
      },
      "source": [
        "Implementation of gradient descent to minimize the loss/cost function(mse)"
      ]
    },
    {
      "cell_type": "code",
      "metadata": {
        "colab": {
          "base_uri": "https://localhost:8080/",
          "height": 316
        },
        "id": "Z7C6QjXZ52lq",
        "outputId": "f8828da2-3f1b-4bae-d68e-69592000cece"
      },
      "source": [
        "def gradient_descent(iterations=100,learning_rate=0.00001,m=0,c=0):\n",
        "    \n",
        "    n = len(x)\n",
        "    \n",
        "  \n",
        "\n",
        "    for i in range(iterations):\n",
        "        y_predicted = m*x + c\n",
        "        mse=mean_squared_error(y_hat=y_predicted)\n",
        "        \n",
        "        md = -(2/n)*sum(x*(y-y_predicted))\n",
        "        cd = -(2/n)*sum(y-y_predicted)\n",
        "        m = m-learning_rate * md\n",
        "        c = c-learning_rate * cd\n",
        "    #plot a graph of the predicted line vs the data    \n",
        "    plot_result(m,c)\n",
        "\n",
        "    #predict the office price of a give office size\n",
        "    predict_officePrice(m,c,office_size=100)\n",
        "   \n",
        "gradient_descent()"
      ],
      "execution_count": null,
      "outputs": [
        {
          "output_type": "stream",
          "text": [
            "100\n",
            "12063.924970439079\n"
          ],
          "name": "stdout"
        },
        {
          "output_type": "display_data",
          "data": {
            "image/png": "[encoded data removed]",
            "text/plain": [
              "<Figure size 432x288 with 1 Axes>"
            ]
          },
          "metadata": {
            "tags": [],
            "needs_background": "light"
          }
        },
        {
          "output_type": "stream",
          "text": [
            "For office size 100 the predicted office price if 12063.924970439079\n"
          ],
          "name": "stdout"
        }
      ]
    },
    {
      "cell_type": "code",
      "metadata": {
        "id": "ZIf6Er3rEMCj"
      },
      "source": [
        "\n"
      ],
      "execution_count": null,
      "outputs": []
    }
  ]
}